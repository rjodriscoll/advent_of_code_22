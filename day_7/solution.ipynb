{
 "cells": [
  {
   "cell_type": "code",
   "execution_count": 50,
   "metadata": {},
   "outputs": [],
   "source": []
  },
  {
   "cell_type": "code",
   "execution_count": 59,
   "metadata": {},
   "outputs": [
    {
     "name": "stdout",
     "output_type": "stream",
     "text": [
      "{'/': {'//a': '', 'b.txt': 14848514, 'c.dat': 8504156, '//d': ''}, '//a': {'//a/e': '', 'f': 29116, 'g': 2557, 'h.lst': 62596}, '//a/e': {'i': 584}, '//d': {'j': 4060174, 'd.log': 8033020, 'd.ext': 5626152, 'k': 7214296}}\n",
      "----------------------------------------------------------------------------------------------------\n",
      "{'/': {'//a': '', 'b.txt': 14848514, 'c.dat': 8504156, '//d': ''}, '//a': {'//a/e': '', 'f': 29116, 'g': 2557, 'h.lst': 62596}, '//a/e': 584, '//d': 24933642}\n"
     ]
    }
   ],
   "source": [
    "test_data = ['$ cd /',\n",
    "'$ ls',\n",
    "'dir a',\n",
    "'14848514 b.txt',\n",
    "'8504156 c.dat',\n",
    "'dir d',\n",
    "'$ cd a',\n",
    "'$ ls',\n",
    "'dir e',\n",
    "'29116 f',\n",
    "'2557 g',\n",
    "'62596 h.lst',\n",
    "'$ cd e',\n",
    "'$ ls',\n",
    "'584 i',\n",
    "'$ cd ..',\n",
    "'$ cd ..',\n",
    "'$ cd d',\n",
    "'$ ls',\n",
    "'4060174 j',\n",
    "'8033020 d.log',\n",
    "'5626152 d.ext',\n",
    "'7214296 k']\n",
    "\n",
    "\n",
    "DIRECTORY_STACK = [] # top item is where we are \n",
    "\n",
    "up_dir = '..'\n",
    "\n",
    "\n",
    "def is_cd(command):\n",
    "    return '$ cd' in command\n",
    "\n",
    "def is_ls(command):\n",
    "    return '$ ls' in command\n",
    "\n",
    "def get_dir_name(command):\n",
    "    return command.split(' ')[-1]\n",
    "\n",
    "def get_ls_results(current):\n",
    "    pass\n",
    "\n",
    "def get_ls_results(index):\n",
    "    contents = []\n",
    "    for item in data[index + 1 : ]:\n",
    "        if is_ls(item) or is_cd(item):\n",
    "            break\n",
    "        contents.append(item)\n",
    "\n",
    "    return contents\n",
    "\n",
    "def parse_contents(contents):\n",
    "    cont_dict = {}\n",
    "    for content in contents:\n",
    "        first, second = content.split(' ')\n",
    "        if first == 'dir':\n",
    "            cont_dict['/'.join(DIRECTORY_STACK) + '/' + second] = ''\n",
    "        else:\n",
    "            cont_dict[second] = int(first)\n",
    "    return cont_dict\n",
    "\n",
    "def get_contents_size(dirs, dir_name):\n",
    "    return sum([v for v in dirs.get(dir_name).values()])\n",
    "\n",
    "def is_dir(string):\n",
    "    return string.startswith('/')\n",
    "\n",
    "data = test_data\n",
    "\n",
    "dirs = {}\n",
    "\n",
    "data = test_data\n",
    "for index, command in enumerate(data):\n",
    "    if is_cd(command):\n",
    "        if get_dir_name(command) == up_dir:\n",
    "            _ = DIRECTORY_STACK.pop()\n",
    "        else:\n",
    "            DIRECTORY_STACK.append(get_dir_name(command))\n",
    "    \n",
    "    if is_ls(command):\n",
    "        CURRENT_DIR = '/'.join(DIRECTORY_STACK)\n",
    "        contents = get_ls_results(index)\n",
    "        contents = parse_contents(contents)\n",
    "        dirs[CURRENT_DIR] = contents\n",
    "\n",
    "print(dirs)\n",
    "\n",
    "def populate_values(d):\n",
    "    for key, value in d.items():\n",
    "        # print('the key is ', key)\n",
    "        # print('the value is ', value)\n",
    "        if is_dir(key):\n",
    "            if isinstance(value, dict):\n",
    "                if '' in value.values():\n",
    "                    populate_values(value)\n",
    "                else:\n",
    "                    # print('getting', key)\n",
    "                    d[key] = get_contents_size(d, dir_name=key)\n",
    "\n",
    "\n",
    "                    \n",
    "populate_values(dirs)\n",
    "print('-' * 100)\n",
    "print(dirs)\n"
   ]
  },
  {
   "cell_type": "code",
   "execution_count": 54,
   "metadata": {},
   "outputs": [
    {
     "name": "stdout",
     "output_type": "stream",
     "text": [
      "the key is  /\n",
      "the value is  {'//a': '', 'b.txt': 14848514, 'c.dat': 8504156, '//d': ''}\n",
      "the key is  //a\n",
      "the value is  \n",
      "the key is  b.txt\n",
      "the value is  14848514\n",
      "the key is  c.dat\n",
      "the value is  8504156\n",
      "the key is  //d\n",
      "the value is  \n",
      "the key is  //a\n",
      "the value is  {'//a/e': '', 'f': 29116, 'g': 2557, 'h.lst': 62596}\n",
      "the key is  //a/e\n",
      "the value is  \n",
      "the key is  f\n",
      "the value is  29116\n",
      "the key is  g\n",
      "the value is  2557\n",
      "the key is  h.lst\n",
      "the value is  62596\n",
      "the key is  //a/e\n",
      "the value is  {'i': 584}\n",
      "getting //a/e\n",
      "the key is  //d\n",
      "the value is  {'j': 4060174, 'd.log': 8033020, 'd.ext': 5626152, 'k': 7214296}\n",
      "getting //d\n"
     ]
    }
   ],
   "source": [
    "populate_values(dirs)"
   ]
  },
  {
   "cell_type": "code",
   "execution_count": 49,
   "metadata": {},
   "outputs": [
    {
     "data": {
      "text/plain": [
       "{'/': {'//a': '', 'b.txt': 14848514, 'c.dat': 8504156, '//d': ''},\n",
       " '//a': {'//a/e': '', 'f': 29116, 'g': 2557, 'h.lst': 62596},\n",
       " '//a/e': 584,\n",
       " '//d': 24933642}"
      ]
     },
     "execution_count": 49,
     "metadata": {},
     "output_type": "execute_result"
    }
   ],
   "source": [
    "dirs"
   ]
  },
  {
   "cell_type": "code",
   "execution_count": 12,
   "metadata": {},
   "outputs": [
    {
     "data": {
      "text/plain": [
       "{'/': {'//a': 0, 'b.txt': 0, 'c.dat': 0, '//d': 0},\n",
       " '//a': {'//a/e': 0, 'f': 0, 'g': 0, 'h.lst': 0},\n",
       " '//a/e': {'i': 0},\n",
       " '//d': {'j': 0, 'd.log': 0, 'd.ext': 0, 'k': 0}}"
      ]
     },
     "execution_count": 12,
     "metadata": {},
     "output_type": "execute_result"
    }
   ],
   "source": [
    "d"
   ]
  },
  {
   "cell_type": "code",
   "execution_count": null,
   "metadata": {},
   "outputs": [],
   "source": [
    "missing_sizes[0]"
   ]
  },
  {
   "cell_type": "code",
   "execution_count": null,
   "metadata": {},
   "outputs": [],
   "source": [
    "get_contents_size(dirs, dir_name='//a')"
   ]
  },
  {
   "cell_type": "code",
   "execution_count": null,
   "metadata": {},
   "outputs": [],
   "source": [
    "\n",
    "contents = dirs['/'].items()\n",
    "\n",
    "missing_sizes = [k for (k, v) in contents if v == '']\n",
    "if missing_sizes():\n",
    "    for missing_size in missing_sizes:\n",
    "        sub_contents = dirs['/'].items()\n",
    "        missing_sizes = [k for (k, v) in contents if v == '']\n",
    "        get_contents_size(dirs, dir_name=missing_sizes[0])\n"
   ]
  }
 ],
 "metadata": {
  "kernelspec": {
   "display_name": "Python 3.10.6 64-bit",
   "language": "python",
   "name": "python3"
  },
  "language_info": {
   "codemirror_mode": {
    "name": "ipython",
    "version": 3
   },
   "file_extension": ".py",
   "mimetype": "text/x-python",
   "name": "python",
   "nbconvert_exporter": "python",
   "pygments_lexer": "ipython3",
   "version": "3.10.6"
  },
  "orig_nbformat": 4,
  "vscode": {
   "interpreter": {
    "hash": "916dbcbb3f70747c44a77c7bcd40155683ae19c65e1c03b4aa3499c5328201f1"
   }
  }
 },
 "nbformat": 4,
 "nbformat_minor": 2
}
